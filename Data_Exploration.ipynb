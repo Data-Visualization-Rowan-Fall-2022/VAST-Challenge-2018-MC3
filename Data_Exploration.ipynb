{
 "cells": [
  {
   "cell_type": "markdown",
   "metadata": {},
   "source": [
    "# Backgrounder on Kasios International data\n",
    "The Kasios Insider has provided data from across the company. There are call records, emails, purchases, and meetings. The data only includes the source of each transaction, the recipient (destination), and the time of the transaction. Contents of emails or phone calls are not available.\n",
    "\n",
    "All of the provided data files have the same format. The data are provided in comma-separated format with four columns:\n",
    "1.\tSource (contains the company ID# for the person who called, sent an email, purchased something, or invited people to a meeting)\n",
    "2.\tEtype (contains a number designating what kind of connection is made)\n",
    "a.\t0 is for calls\n",
    "b.\t1 is for emails\n",
    "c.\t2 is for purchases\n",
    "d.\t3 is for meetings\n",
    "3.\tDestination (contains company ID# for the person who is receiving a call, receiving an email, selling something to a buyer, or being invited to a meeting).\n",
    "4.\tTime stamp – in seconds starting on May 11, 2015 at 14:00.\n",
    "\n",
    "There is a company index that shows the name of everyone in the company and their associated ID#. There are 642,631 individuals in the index.\n",
    "\n",
    "\n",
    "There are four data files that cover the whole company:\n",
    "-\tcalls.csv has information on 10.6 million calls (251 MB uncompressed)\n",
    "-\temails.csv has information on 14.6 million emails (345 MB uncompressed)\n",
    "-\tpurchases.csv has information on 762 thousand purchases (18.8 MB uncompressed)\n",
    "-\tmeetings.csv has information on 127 thousand meetings (3.26 MB uncompressed)\n",
    "\n",
    "There are four data files that contain information about individuals that the Insider has indicated as suspicious:\n",
    "-\tSuspicious_calls.csv (1.76 KB uncompressed)\n",
    "-\tSuspicious_emails.csv (1.55 KB uncompressed)\n",
    "-\tSuspicious_purchases.csv (27 B uncompressed)\n",
    "-\tSuspicious_meetings.csv (130 B uncompressed)\n",
    "\n",
    "For question 4, there is a file that contains a list of 4 individuals who made 7 suspicious purchases, who may be of interest.  \n",
    "-   Other_suspicious_purchases.csv (378 B uncompressed)\n"
   ]
  },
  {
   "cell_type": "code",
   "execution_count": 1,
   "metadata": {},
   "outputs": [],
   "source": [
    "import numpy as np\n",
    "import pandas as pd"
   ]
  },
  {
   "cell_type": "markdown",
   "metadata": {},
   "source": [
    "### Files that cover the whole company"
   ]
  },
  {
   "cell_type": "code",
   "execution_count": 29,
   "metadata": {},
   "outputs": [],
   "source": [
    "\n",
    "# import data\n",
    "names = [\"source\", \"etype\", \"destination\", 'timestamp']\n",
    "df_calls = pd.read_csv('./VAST-Challenge-2018-MC3/MC3_2018/calls.csv', header=None, names=names)\n",
    "df_emails = pd.read_csv('./VAST-Challenge-2018-MC3/MC3_2018/emails.csv', header=None, names=names)\n",
    "df_purch = pd.read_csv('./VAST-Challenge-2018-MC3/MC3_2018/purchases.csv', header=None, names=names)\n",
    "df_meet = pd.read_csv('./VAST-Challenge-2018-MC3/MC3_2018/meetings.csv', header=None, names=names)"
   ]
  },
  {
   "cell_type": "code",
   "execution_count": 30,
   "metadata": {},
   "outputs": [
    {
     "name": "stdout",
     "output_type": "stream",
     "text": [
      "Calls\n",
      "    source  etype  destination  timestamp\n",
      "0   713639      0       713701       4308\n",
      "1   713563      0       713701       4315\n",
      "2   713474      0      1376868       4338\n",
      "3   713701      0       713639       4354\n",
      "4  1376868      0       713639       4366\n",
      "Emails\n",
      "    source  etype  destination  timestamp\n",
      "0   713701      1      1376868       4336\n",
      "1   713701      1      1376868       4425\n",
      "2   713563      1       713701       4435\n",
      "3  1376868      1       713701       4456\n",
      "4   713563      1       713701       4458\n",
      "Purchases\n",
      "    source  etype  destination  timestamp\n",
      "0   713639      2      2040565       4308\n",
      "1   713474      2      2040565       5134\n",
      "2   713701      2      2040565       5149\n",
      "3  1376868      2      2040565       5253\n",
      "4   713468      2      2040565       5669\n",
      "Meetings\n",
      "    source  etype  destination  timestamp\n",
      "0  1066153      3      2015580       1095\n",
      "1  1122557      3      2015580       1095\n",
      "2  1066943      3      1891741    1065348\n",
      "3  1106679      3      1761893    1065348\n",
      "4  1106679      3      1891741    1065348\n"
     ]
    }
   ],
   "source": [
    "# print headers\n",
    "print(\"Calls\")\n",
    "print(df_calls.head())\n",
    "print(\"Emails\")\n",
    "print(df_emails.head())\n",
    "print(\"Purchases\")\n",
    "print(df_purch.head())\n",
    "print(\"Meetings\")\n",
    "print(df_meet.head())"
   ]
  },
  {
   "cell_type": "markdown",
   "metadata": {},
   "source": [
    "### Files about individuals"
   ]
  },
  {
   "cell_type": "code",
   "execution_count": 22,
   "metadata": {},
   "outputs": [],
   "source": [
    "# import data\n",
    "df_sus_calls = pd.read_csv('./VAST-Challenge-2018-MC3/MC3_2018/Suspicious_calls.csv', header=None)\n",
    "df_sus_emails = pd.read_csv('./VAST-Challenge-2018-MC3/MC3_2018/Suspicious_emails.csv', header=None)\n",
    "df_sus_purch = pd.read_csv('./VAST-Challenge-2018-MC3/MC3_2018/Suspicious_purchases.csv', header=None)\n",
    "df_sus_meet = pd.read_csv('./VAST-Challenge-2018-MC3/MC3_2018/Suspicious_meetings.csv', header=None)"
   ]
  },
  {
   "cell_type": "code",
   "execution_count": 23,
   "metadata": {},
   "outputs": [
    {
     "name": "stdout",
     "output_type": "stream",
     "text": [
      "Suspicious Calls\n",
      "        0  1       2         3\n",
      "0  234164  0   28520  36425753\n",
      "1  696047  0   28520  15696173\n",
      "2  969089  0   28520  39932093\n",
      "3  387200  0   51780  15628733\n",
      "4  696047  0  234164  16345253\n",
      "Suspicious Emails\n",
      "         0  1       2         3\n",
      "0  1108217  1   51780  21771533\n",
      "1   696047  1  234164  32164733\n",
      "2   728286  1  387200  55957133\n",
      "3  1108217  1  387200  23081933\n",
      "4  1108217  1  387200  60855533\n",
      "Suspicious Purchases\n",
      "         0  1        2         3\n",
      "0  1847246  2  2038003  74565933\n",
      "Suspicious Meetings\n",
      "         0  1        2         3\n",
      "0   857138  3   728286  30755533\n",
      "1  1108217  3   728286  70855533\n",
      "2   857138  3  1690582  72655933\n",
      "3  1690582  3  1847246  73055933\n",
      "4   857138  3  1886447  15616833\n"
     ]
    }
   ],
   "source": [
    "# print headers\n",
    "print(\"Suspicious Calls\")\n",
    "print(df_sus_calls.head())\n",
    "print(\"Suspicious Emails\")\n",
    "print(df_sus_emails.head())\n",
    "print(\"Suspicious Purchases\")\n",
    "print(df_sus_purch.head())\n",
    "print(\"Suspicious Meetings\")\n",
    "print(df_sus_meet.head())"
   ]
  },
  {
   "cell_type": "code",
   "execution_count": null,
   "metadata": {},
   "outputs": [],
   "source": []
  }
 ],
 "metadata": {
  "kernelspec": {
   "display_name": "Python 3.10.5 ('pymc_env')",
   "language": "python",
   "name": "python3"
  },
  "language_info": {
   "codemirror_mode": {
    "name": "ipython",
    "version": 3
   },
   "file_extension": ".py",
   "mimetype": "text/x-python",
   "name": "python",
   "nbconvert_exporter": "python",
   "pygments_lexer": "ipython3",
   "version": "3.10.5"
  },
  "orig_nbformat": 4,
  "vscode": {
   "interpreter": {
    "hash": "c3a3a47ffa0a4e2e2f53ee43ec3700664abc1fad3d7a1de8349b86a00c1ed883"
   }
  }
 },
 "nbformat": 4,
 "nbformat_minor": 2
}
